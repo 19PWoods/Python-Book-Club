{
 "cells": [
  {
   "cell_type": "markdown",
   "metadata": {},
   "source": [
    "- Path = the exact location of a file or folder on a system\n",
    "- read_text() method reads entire contents of the file. Returns a single string\n",
    "    - read_text() returns an empyt strin when it reaches the end of the file; this empyt string shows up as a blank line.\n",
    "    - Use rstrip() to get rid of said extra blank\n",
    "Note*: VSCode looks for files in the folder that was most recently opened. "
   ]
  },
  {
   "cell_type": "code",
   "execution_count": 1,
   "metadata": {},
   "outputs": [
    {
     "name": "stdout",
     "output_type": "stream",
     "text": [
      "3.141592653589793238462643383279\n",
      "3.141592653589793238462643383279\n"
     ]
    },
    {
     "data": {
      "text/plain": [
       "True"
      ]
     },
     "execution_count": 1,
     "metadata": {},
     "output_type": "execute_result"
    }
   ],
   "source": [
    "from pathlib import Path\n",
    "\n",
    "path = Path('Pi.txt')\n",
    "contents1 = path.read_text()\n",
    "contents2 = contents1.rstrip()\n",
    "print(contents1)\n",
    "print(contents2)\n",
    "\n",
    "contents1 == contents2"
   ]
  },
  {
   "cell_type": "markdown",
   "metadata": {},
   "source": [
    "- Sometimes the file you want to open won't be in the same directory as your program file\n",
    "- To get Python to open files from a directory other than the eone where your prgram file is stored, you need to provide the correct path\n",
    "    - Relative file path: tells Python to look for a given location relative to the directory where the currently running program file is stored\n",
    "    - Absolute file path: tells Python exactly where the file is on your computer regardless of where the program is being executed is stored\n",
    "\n",
    "    ** filename is the example you would use for your filename\n",
    "    ** path4 need to be more specific to your local computer\n"
   ]
  },
  {
   "cell_type": "code",
   "execution_count": 2,
   "metadata": {},
   "outputs": [],
   "source": [
    "# path3 = Path('text_files/filename.txt')"
   ]
  },
  {
   "cell_type": "code",
   "execution_count": 3,
   "metadata": {},
   "outputs": [],
   "source": [
    "# path4 = Path('/home/eric/data_files/text_files/filename.txt')"
   ]
  },
  {
   "cell_type": "markdown",
   "metadata": {},
   "source": [
    "# Accessing a File's Lines\n",
    "\n",
    "- You may want to examine each line of the file\n",
    "- Need to do for loops in order to do so\n",
    "- Also side note, something is not quite right with the code below."
   ]
  },
  {
   "cell_type": "code",
   "execution_count": 12,
   "metadata": {},
   "outputs": [
    {
     "name": "stdout",
     "output_type": "stream",
     "text": [
      "3.141592653 58979323846 26433832793.141592653 58979323846 26433832793.141592653 58979323846 26433832793.141592653 58979323846 2643383279\n",
      "136\n"
     ]
    }
   ],
   "source": [
    "from pathlib import Path\n",
    "\n",
    "path = Path('Pi.txt')\n",
    "contents = path.read_text()\n",
    "\n",
    "lines = contents.splitlines()\n",
    "# pi_string = ''\n",
    "# for line in lines:\n",
    "#     print(line)\n",
    "#     pi_string += line\n",
    "    \n",
    "# print(pi_string)\n",
    "# print(len(pi_string))   \n",
    "\n",
    "for line in lines:\n",
    "    pi_string += line.lstrip()\n",
    "    \n",
    "print(pi_string)\n",
    "print(len(pi_string)) \n",
    "    "
   ]
  }
 ],
 "metadata": {
  "kernelspec": {
   "display_name": "base",
   "language": "python",
   "name": "python3"
  },
  "language_info": {
   "codemirror_mode": {
    "name": "ipython",
    "version": 3
   },
   "file_extension": ".py",
   "mimetype": "text/x-python",
   "name": "python",
   "nbconvert_exporter": "python",
   "pygments_lexer": "ipython3",
   "version": "3.11.4"
  }
 },
 "nbformat": 4,
 "nbformat_minor": 2
}
